{
 "cells": [
  {
   "cell_type": "markdown",
   "metadata": {},
   "source": [
    "## Coursera Machine Learning for Data Analysis\n",
    "### Week 1 Assignment"
   ]
  },
  {
   "cell_type": "markdown",
   "metadata": {},
   "source": [
    "#### Intro\n",
    "I decided to work with a famous dataset - the [Pima Indians Diabetes Database](https://archive.ics.uci.edu/ml/machine-learning-databases/pima-indians-diabetes/pima-indians-diabetes.names), which gives you different parameters regarding Indian women's health and medical history, along with a label of having or not having diabetes.<br>\n",
    "We'll run a decision tree analysis to see if we can predict having diabetes from the other indicators.<br>"
   ]
  },
  {
   "cell_type": "code",
   "execution_count": 1,
   "metadata": {
    "collapsed": true
   },
   "outputs": [],
   "source": [
    "import pandas as pd\n",
    "import numpy as np\n",
    "\n",
    "from sklearn.cross_validation import train_test_split\n",
    "from sklearn.tree import DecisionTreeClassifier\n",
    "from sklearn.metrics import classification_report\n",
    "import sklearn.metrics\n",
    "\n",
    "import os\n",
    "\n",
    "#Displaying the decision tree\n",
    "from sklearn import tree\n",
    "from io import BytesIO as StringIO\n",
    "from IPython.display import Image\n",
    "out = StringIO()\n",
    "import pydotplus"
   ]
  },
  {
   "cell_type": "code",
   "execution_count": 2,
   "metadata": {
    "collapsed": false
   },
   "outputs": [
    {
     "name": "stdout",
     "output_type": "stream",
     "text": [
      "(768, 9)\n"
     ]
    },
    {
     "data": {
      "text/html": [
       "<div>\n",
       "<table border=\"1\" class=\"dataframe\">\n",
       "  <thead>\n",
       "    <tr style=\"text-align: right;\">\n",
       "      <th></th>\n",
       "      <th>pregnant</th>\n",
       "      <th>glucose</th>\n",
       "      <th>bp</th>\n",
       "      <th>skin</th>\n",
       "      <th>insulin</th>\n",
       "      <th>bmi</th>\n",
       "      <th>pedigree</th>\n",
       "      <th>age</th>\n",
       "      <th>label</th>\n",
       "    </tr>\n",
       "  </thead>\n",
       "  <tbody>\n",
       "    <tr>\n",
       "      <th>0</th>\n",
       "      <td>6</td>\n",
       "      <td>148</td>\n",
       "      <td>72</td>\n",
       "      <td>35</td>\n",
       "      <td>0</td>\n",
       "      <td>33.6</td>\n",
       "      <td>0.627</td>\n",
       "      <td>50</td>\n",
       "      <td>1</td>\n",
       "    </tr>\n",
       "    <tr>\n",
       "      <th>1</th>\n",
       "      <td>1</td>\n",
       "      <td>85</td>\n",
       "      <td>66</td>\n",
       "      <td>29</td>\n",
       "      <td>0</td>\n",
       "      <td>26.6</td>\n",
       "      <td>0.351</td>\n",
       "      <td>31</td>\n",
       "      <td>0</td>\n",
       "    </tr>\n",
       "    <tr>\n",
       "      <th>2</th>\n",
       "      <td>8</td>\n",
       "      <td>183</td>\n",
       "      <td>64</td>\n",
       "      <td>0</td>\n",
       "      <td>0</td>\n",
       "      <td>23.3</td>\n",
       "      <td>0.672</td>\n",
       "      <td>32</td>\n",
       "      <td>1</td>\n",
       "    </tr>\n",
       "    <tr>\n",
       "      <th>3</th>\n",
       "      <td>1</td>\n",
       "      <td>89</td>\n",
       "      <td>66</td>\n",
       "      <td>23</td>\n",
       "      <td>94</td>\n",
       "      <td>28.1</td>\n",
       "      <td>0.167</td>\n",
       "      <td>21</td>\n",
       "      <td>0</td>\n",
       "    </tr>\n",
       "    <tr>\n",
       "      <th>4</th>\n",
       "      <td>0</td>\n",
       "      <td>137</td>\n",
       "      <td>40</td>\n",
       "      <td>35</td>\n",
       "      <td>168</td>\n",
       "      <td>43.1</td>\n",
       "      <td>2.288</td>\n",
       "      <td>33</td>\n",
       "      <td>1</td>\n",
       "    </tr>\n",
       "  </tbody>\n",
       "</table>\n",
       "</div>"
      ],
      "text/plain": [
       "   pregnant  glucose  bp  skin  insulin   bmi  pedigree  age  label\n",
       "0         6      148  72    35        0  33.6     0.627   50      1\n",
       "1         1       85  66    29        0  26.6     0.351   31      0\n",
       "2         8      183  64     0        0  23.3     0.672   32      1\n",
       "3         1       89  66    23       94  28.1     0.167   21      0\n",
       "4         0      137  40    35      168  43.1     2.288   33      1"
      ]
     },
     "execution_count": 2,
     "metadata": {},
     "output_type": "execute_result"
    }
   ],
   "source": [
    "# Pima Indian Diabetes dataset from the UCI Machine Learning Repository\n",
    "\n",
    "url = 'https://archive.ics.uci.edu/ml/machine-learning-databases/pima-indians-diabetes/pima-indians-diabetes.data'\n",
    "col_names = ['pregnant', 'glucose', 'bp', 'skin', 'insulin', 'bmi', 'pedigree', 'age', 'label']\n",
    "pima = pd.read_csv(url, header=None, names=col_names)\n",
    "\n",
    "print pima.shape\n",
    "\n",
    "pima.head()"
   ]
  },
  {
   "cell_type": "markdown",
   "metadata": {},
   "source": [
    "Here is the codebook for the labels, by order of appearance - left to right:<br>\n",
    "(copied directly from [here](https://archive.ics.uci.edu/ml/machine-learning-databases/pima-indians-diabetes/pima-indians-diabetes.names))\n",
    "1. Number of times pregnant\n",
    "+ Plasma glucose concentration a 2 hours in an oral glucose tolerance test\n",
    "+ Diastolic blood pressure (mm Hg)\n",
    "+ Triceps skin fold thickness (mm)\n",
    "+ 2-Hour serum insulin (mu U/ml)\n",
    "+ Body mass index (weight in kg/(height in m)^2)\n",
    "+ Diabetes pedigree function\n",
    "+ Age (years)\n",
    "+ Class variable (0 or 1)\n"
   ]
  },
  {
   "cell_type": "code",
   "execution_count": 3,
   "metadata": {
    "collapsed": false
   },
   "outputs": [
    {
     "name": "stdout",
     "output_type": "stream",
     "text": [
      "<class 'pandas.core.frame.DataFrame'>\n",
      "Int64Index: 768 entries, 0 to 767\n",
      "Data columns (total 9 columns):\n",
      "pregnant    768 non-null int64\n",
      "glucose     768 non-null int64\n",
      "bp          768 non-null int64\n",
      "skin        768 non-null int64\n",
      "insulin     768 non-null int64\n",
      "bmi         768 non-null float64\n",
      "pedigree    768 non-null float64\n",
      "age         768 non-null int64\n",
      "label       768 non-null int64\n",
      "dtypes: float64(2), int64(7)\n",
      "memory usage: 60.0 KB\n"
     ]
    }
   ],
   "source": [
    "# let's check there are no missing values we need to handle\n",
    "\n",
    "pima.info(memory_usage='deep')"
   ]
  },
  {
   "cell_type": "code",
   "execution_count": 4,
   "metadata": {
    "collapsed": true
   },
   "outputs": [],
   "source": [
    "# we can see that for all of the women in the study there are no null values for either parameter. Hooray!"
   ]
  },
  {
   "cell_type": "code",
   "execution_count": 5,
   "metadata": {
    "collapsed": false
   },
   "outputs": [
    {
     "data": {
      "text/html": [
       "<div>\n",
       "<table border=\"1\" class=\"dataframe\">\n",
       "  <thead>\n",
       "    <tr style=\"text-align: right;\">\n",
       "      <th></th>\n",
       "      <th>pregnant</th>\n",
       "      <th>glucose</th>\n",
       "      <th>bp</th>\n",
       "      <th>skin</th>\n",
       "      <th>insulin</th>\n",
       "      <th>bmi</th>\n",
       "      <th>pedigree</th>\n",
       "      <th>age</th>\n",
       "      <th>label</th>\n",
       "    </tr>\n",
       "  </thead>\n",
       "  <tbody>\n",
       "    <tr>\n",
       "      <th>count</th>\n",
       "      <td>768.000000</td>\n",
       "      <td>768.000000</td>\n",
       "      <td>768.000000</td>\n",
       "      <td>768.000000</td>\n",
       "      <td>768.000000</td>\n",
       "      <td>768.000000</td>\n",
       "      <td>768.000000</td>\n",
       "      <td>768.000000</td>\n",
       "      <td>768.000000</td>\n",
       "    </tr>\n",
       "    <tr>\n",
       "      <th>mean</th>\n",
       "      <td>3.845052</td>\n",
       "      <td>120.894531</td>\n",
       "      <td>69.105469</td>\n",
       "      <td>20.536458</td>\n",
       "      <td>79.799479</td>\n",
       "      <td>31.992578</td>\n",
       "      <td>0.471876</td>\n",
       "      <td>33.240885</td>\n",
       "      <td>0.348958</td>\n",
       "    </tr>\n",
       "    <tr>\n",
       "      <th>std</th>\n",
       "      <td>3.369578</td>\n",
       "      <td>31.972618</td>\n",
       "      <td>19.355807</td>\n",
       "      <td>15.952218</td>\n",
       "      <td>115.244002</td>\n",
       "      <td>7.884160</td>\n",
       "      <td>0.331329</td>\n",
       "      <td>11.760232</td>\n",
       "      <td>0.476951</td>\n",
       "    </tr>\n",
       "    <tr>\n",
       "      <th>min</th>\n",
       "      <td>0.000000</td>\n",
       "      <td>0.000000</td>\n",
       "      <td>0.000000</td>\n",
       "      <td>0.000000</td>\n",
       "      <td>0.000000</td>\n",
       "      <td>0.000000</td>\n",
       "      <td>0.078000</td>\n",
       "      <td>21.000000</td>\n",
       "      <td>0.000000</td>\n",
       "    </tr>\n",
       "    <tr>\n",
       "      <th>25%</th>\n",
       "      <td>1.000000</td>\n",
       "      <td>99.000000</td>\n",
       "      <td>62.000000</td>\n",
       "      <td>0.000000</td>\n",
       "      <td>0.000000</td>\n",
       "      <td>27.300000</td>\n",
       "      <td>0.243750</td>\n",
       "      <td>24.000000</td>\n",
       "      <td>0.000000</td>\n",
       "    </tr>\n",
       "    <tr>\n",
       "      <th>50%</th>\n",
       "      <td>3.000000</td>\n",
       "      <td>117.000000</td>\n",
       "      <td>72.000000</td>\n",
       "      <td>23.000000</td>\n",
       "      <td>30.500000</td>\n",
       "      <td>32.000000</td>\n",
       "      <td>0.372500</td>\n",
       "      <td>29.000000</td>\n",
       "      <td>0.000000</td>\n",
       "    </tr>\n",
       "    <tr>\n",
       "      <th>75%</th>\n",
       "      <td>6.000000</td>\n",
       "      <td>140.250000</td>\n",
       "      <td>80.000000</td>\n",
       "      <td>32.000000</td>\n",
       "      <td>127.250000</td>\n",
       "      <td>36.600000</td>\n",
       "      <td>0.626250</td>\n",
       "      <td>41.000000</td>\n",
       "      <td>1.000000</td>\n",
       "    </tr>\n",
       "    <tr>\n",
       "      <th>max</th>\n",
       "      <td>17.000000</td>\n",
       "      <td>199.000000</td>\n",
       "      <td>122.000000</td>\n",
       "      <td>99.000000</td>\n",
       "      <td>846.000000</td>\n",
       "      <td>67.100000</td>\n",
       "      <td>2.420000</td>\n",
       "      <td>81.000000</td>\n",
       "      <td>1.000000</td>\n",
       "    </tr>\n",
       "  </tbody>\n",
       "</table>\n",
       "</div>"
      ],
      "text/plain": [
       "         pregnant     glucose          bp        skin     insulin         bmi  \\\n",
       "count  768.000000  768.000000  768.000000  768.000000  768.000000  768.000000   \n",
       "mean     3.845052  120.894531   69.105469   20.536458   79.799479   31.992578   \n",
       "std      3.369578   31.972618   19.355807   15.952218  115.244002    7.884160   \n",
       "min      0.000000    0.000000    0.000000    0.000000    0.000000    0.000000   \n",
       "25%      1.000000   99.000000   62.000000    0.000000    0.000000   27.300000   \n",
       "50%      3.000000  117.000000   72.000000   23.000000   30.500000   32.000000   \n",
       "75%      6.000000  140.250000   80.000000   32.000000  127.250000   36.600000   \n",
       "max     17.000000  199.000000  122.000000   99.000000  846.000000   67.100000   \n",
       "\n",
       "         pedigree         age       label  \n",
       "count  768.000000  768.000000  768.000000  \n",
       "mean     0.471876   33.240885    0.348958  \n",
       "std      0.331329   11.760232    0.476951  \n",
       "min      0.078000   21.000000    0.000000  \n",
       "25%      0.243750   24.000000    0.000000  \n",
       "50%      0.372500   29.000000    0.000000  \n",
       "75%      0.626250   41.000000    1.000000  \n",
       "max      2.420000   81.000000    1.000000  "
      ]
     },
     "execution_count": 5,
     "metadata": {},
     "output_type": "execute_result"
    }
   ],
   "source": [
    "# Some descriptive statistics:\n",
    "\n",
    "pima.describe()"
   ]
  },
  {
   "cell_type": "code",
   "execution_count": 6,
   "metadata": {
    "collapsed": false
   },
   "outputs": [
    {
     "data": {
      "text/plain": [
       "0    0.651042\n",
       "1    0.348958\n",
       "Name: label, dtype: float64"
      ]
     },
     "execution_count": 6,
     "metadata": {},
     "output_type": "execute_result"
    }
   ],
   "source": [
    "# And now we'll look at how prevalent diabetes is at the first place.\n",
    "# This will be useful to examine how well our model is doing.\n",
    "\n",
    "pima['label'].value_counts(normalize=True)"
   ]
  },
  {
   "cell_type": "markdown",
   "metadata": {},
   "source": [
    "We can see that 65% of women do not have diabetes.<br>\n",
    "What this means is that if we always 'predict' 0 - no diabetes - our prediction would be right **65%** of the time. So, this is **the baseline to beat**.\n",
    "\n",
    "** Let's do it! **"
   ]
  },
  {
   "cell_type": "code",
   "execution_count": 7,
   "metadata": {
    "collapsed": false
   },
   "outputs": [
    {
     "name": "stdout",
     "output_type": "stream",
     "text": [
      "['pregnant', 'glucose', 'bp', 'skin', 'insulin', 'bmi', 'pedigree', 'age']\n"
     ]
    },
    {
     "data": {
      "text/html": [
       "<div>\n",
       "<table border=\"1\" class=\"dataframe\">\n",
       "  <thead>\n",
       "    <tr style=\"text-align: right;\">\n",
       "      <th></th>\n",
       "      <th>pregnant</th>\n",
       "      <th>glucose</th>\n",
       "      <th>bp</th>\n",
       "      <th>skin</th>\n",
       "      <th>insulin</th>\n",
       "      <th>bmi</th>\n",
       "      <th>pedigree</th>\n",
       "      <th>age</th>\n",
       "    </tr>\n",
       "  </thead>\n",
       "  <tbody>\n",
       "    <tr>\n",
       "      <th>0</th>\n",
       "      <td>6</td>\n",
       "      <td>148</td>\n",
       "      <td>72</td>\n",
       "      <td>35</td>\n",
       "      <td>0</td>\n",
       "      <td>33.6</td>\n",
       "      <td>0.627</td>\n",
       "      <td>50</td>\n",
       "    </tr>\n",
       "    <tr>\n",
       "      <th>1</th>\n",
       "      <td>1</td>\n",
       "      <td>85</td>\n",
       "      <td>66</td>\n",
       "      <td>29</td>\n",
       "      <td>0</td>\n",
       "      <td>26.6</td>\n",
       "      <td>0.351</td>\n",
       "      <td>31</td>\n",
       "    </tr>\n",
       "    <tr>\n",
       "      <th>2</th>\n",
       "      <td>8</td>\n",
       "      <td>183</td>\n",
       "      <td>64</td>\n",
       "      <td>0</td>\n",
       "      <td>0</td>\n",
       "      <td>23.3</td>\n",
       "      <td>0.672</td>\n",
       "      <td>32</td>\n",
       "    </tr>\n",
       "    <tr>\n",
       "      <th>3</th>\n",
       "      <td>1</td>\n",
       "      <td>89</td>\n",
       "      <td>66</td>\n",
       "      <td>23</td>\n",
       "      <td>94</td>\n",
       "      <td>28.1</td>\n",
       "      <td>0.167</td>\n",
       "      <td>21</td>\n",
       "    </tr>\n",
       "    <tr>\n",
       "      <th>4</th>\n",
       "      <td>0</td>\n",
       "      <td>137</td>\n",
       "      <td>40</td>\n",
       "      <td>35</td>\n",
       "      <td>168</td>\n",
       "      <td>43.1</td>\n",
       "      <td>2.288</td>\n",
       "      <td>33</td>\n",
       "    </tr>\n",
       "  </tbody>\n",
       "</table>\n",
       "</div>"
      ],
      "text/plain": [
       "   pregnant  glucose  bp  skin  insulin   bmi  pedigree  age\n",
       "0         6      148  72    35        0  33.6     0.627   50\n",
       "1         1       85  66    29        0  26.6     0.351   31\n",
       "2         8      183  64     0        0  23.3     0.672   32\n",
       "3         1       89  66    23       94  28.1     0.167   21\n",
       "4         0      137  40    35      168  43.1     2.288   33"
      ]
     },
     "execution_count": 7,
     "metadata": {},
     "output_type": "execute_result"
    }
   ],
   "source": [
    "# Split to Target and Features\n",
    "y = pima['label']\n",
    "\n",
    "# Since 'label' is the last column on the right, we can easily create a list of features like so:\n",
    "features = col_names[:-1]       # alternatively: list(pima.columns[:-1])\n",
    "print features\n",
    "\n",
    "# and use that to get the features DataFrame\n",
    "X = pima.loc[:, features]\n",
    "X.head()"
   ]
  },
  {
   "cell_type": "code",
   "execution_count": 8,
   "metadata": {
    "collapsed": false
   },
   "outputs": [
    {
     "name": "stdout",
     "output_type": "stream",
     "text": [
      "There are 460 rows and 8 columns in the training set.\n",
      "There are 308 rows and 8 columns in the test set.\n",
      "There are 460 targets in the training set.\n",
      "There are 308 targets in the test set.\n"
     ]
    }
   ],
   "source": [
    "# split X and y into training and testing sets\n",
    "X_train, X_test, y_train, y_test = train_test_split(X, y, test_size=0.4)\n",
    "\n",
    "print 'There are %d rows and %d columns in the training set.' % (X_train.shape[0], X_train.shape[1])\n",
    "print 'There are %d rows and %d columns in the test set.' % (X_test.shape[0], X_test.shape[1])\n",
    "print 'There are %d targets in the training set.' % y_train.shape[0]\n",
    "print 'There are %d targets in the test set.' % y_test.shape[0]"
   ]
  },
  {
   "cell_type": "code",
   "execution_count": 9,
   "metadata": {
    "collapsed": false
   },
   "outputs": [
    {
     "data": {
      "text/plain": [
       "0.72402597402597402"
      ]
     },
     "execution_count": 9,
     "metadata": {},
     "output_type": "execute_result"
    }
   ],
   "source": [
    "# Instantiate the model\n",
    "model = DecisionTreeClassifier(criterion='gini') # we'll start with 'gini' and maybe compare to information gain later.\n",
    "\n",
    "# fit the model with the training data\n",
    "model.fit(X_train, y_train)\n",
    "\n",
    "# and make predictions on the test data\n",
    "y_pred = model.predict(X_test)\n",
    "\n",
    "# let's check our accuracy\n",
    "sklearn.metrics.accuracy_score(y_test, y_pred)"
   ]
  },
  {
   "cell_type": "markdown",
   "metadata": {},
   "source": [
    "We see our accuracy (albeit based on one run) is better than the baseline, which is good! <br>\n",
    "We'll try to improve on it and also have more robus results."
   ]
  },
  {
   "cell_type": "code",
   "execution_count": 10,
   "metadata": {
    "collapsed": false
   },
   "outputs": [
    {
     "data": {
      "text/plain": [
       "array([[166,  39],\n",
       "       [ 46,  57]])"
      ]
     },
     "execution_count": 10,
     "metadata": {},
     "output_type": "execute_result"
    }
   ],
   "source": [
    "# print the confusion metrics:\n",
    "sklearn.metrics.confusion_matrix(y_test, y_pred)"
   ]
  },
  {
   "cell_type": "code",
   "execution_count": 11,
   "metadata": {
    "collapsed": false,
    "scrolled": true
   },
   "outputs": [
    {
     "name": "stdout",
     "output_type": "stream",
     "text": [
      "             precision    recall  f1-score   support\n",
      "\n",
      "          0       0.78      0.81      0.80       205\n",
      "          1       0.59      0.55      0.57       103\n",
      "\n",
      "avg / total       0.72      0.72      0.72       308\n",
      "\n"
     ]
    }
   ],
   "source": [
    "print sklearn.metrics.classification_report(y_test, y_pred)"
   ]
  },
  {
   "cell_type": "markdown",
   "metadata": {},
   "source": [
    "We see in the classification report that we're doing better at predicting 0 (no diabetes) than 1."
   ]
  },
  {
   "cell_type": "code",
   "execution_count": 12,
   "metadata": {
    "collapsed": false
   },
   "outputs": [
    {
     "name": "stdout",
     "output_type": "stream",
     "text": [
      "pregnant     |     0.0436552653466\n",
      "glucose     |     0.298072264975\n",
      "bp     |     0.0699861264114\n",
      "skin     |     0.0194460906325\n",
      "insulin     |     0.048484909387\n",
      "bmi     |     0.214490109533\n",
      "pedigree     |     0.155479138812\n",
      "age     |     0.150386094903\n"
     ]
    }
   ],
   "source": [
    "# Let's print the feature importance\n",
    "\n",
    "for i in range(len(features)):\n",
    "    print features[i], '    |    ', model.feature_importances_[i]"
   ]
  },
  {
   "cell_type": "markdown",
   "metadata": {},
   "source": [
    "It's not surprising to see 'gluose' is the most important feature in predicting diabetes. 'Pregnant' and 'skin' are the least important."
   ]
  },
  {
   "cell_type": "code",
   "execution_count": 13,
   "metadata": {
    "collapsed": false
   },
   "outputs": [
    {
     "data": {
      "text/plain": [
       "169"
      ]
     },
     "execution_count": 13,
     "metadata": {},
     "output_type": "execute_result"
    }
   ],
   "source": [
    "# Before we visualize the tree, let's see how many nodes (including terminal leaves) there are in the tree:\n",
    "\n",
    "model.tree_.node_count"
   ]
  },
  {
   "cell_type": "markdown",
   "metadata": {},
   "source": [
    "There are 169 nodes, which would make visualiztion hard to follow.<br>\n",
    "Let's see if we can get similar accuracy - or even better - with fewer nodes."
   ]
  },
  {
   "cell_type": "code",
   "execution_count": 14,
   "metadata": {
    "collapsed": false
   },
   "outputs": [
    {
     "data": {
      "text/plain": [
       "count    200.000000\n",
       "mean       0.695130\n",
       "std        0.024178\n",
       "min        0.636364\n",
       "25%        0.678571\n",
       "50%        0.694805\n",
       "75%        0.711039\n",
       "max        0.756494\n",
       "dtype: float64"
      ]
     },
     "execution_count": 14,
     "metadata": {},
     "output_type": "execute_result"
    }
   ],
   "source": [
    "# First, let's establish what our accuracy score looks like.\n",
    "# We'll run the classifier multiple times and average the results, to get a more robust estimate of how well it's\n",
    "# doing. For that, let's write a function with the different steps, and loop through it multiple times.\n",
    "\n",
    "\n",
    "def run_decision_tree_clf(X, y, test_size, criterion, max_depth, min_samples_split):\n",
    "    X_train, X_test, y_train, y_test = train_test_split(X, y, test_size=test_size)\n",
    "    model = DecisionTreeClassifier(criterion=criterion, max_depth=max_depth, min_samples_split=min_samples_split)\n",
    "    model.fit(X_train, y_train)\n",
    "    y_pred = model.predict(X_test)\n",
    "    return sklearn.metrics.accuracy_score(y_test, y_pred)\n",
    "\n",
    "scores = []\n",
    "for i in range(200):\n",
    "    scores.append(run_decision_tree_clf(X, y, test_size=0.4, criterion='gini', max_depth=None, min_samples_split=1))\n",
    "    \n",
    "pd.Series(scores).describe()"
   ]
  },
  {
   "cell_type": "code",
   "execution_count": 15,
   "metadata": {
    "collapsed": false
   },
   "outputs": [
    {
     "data": {
      "text/plain": [
       "count    200.000000\n",
       "mean       0.697581\n",
       "std        0.024687\n",
       "min        0.633117\n",
       "25%        0.678571\n",
       "50%        0.698052\n",
       "75%        0.714286\n",
       "max        0.753247\n",
       "dtype: float64"
      ]
     },
     "execution_count": 15,
     "metadata": {},
     "output_type": "execute_result"
    }
   ],
   "source": [
    "# We see the mean score is just about 0.7, which is fairly close to what we god before.\n",
    "# Can we do better with 'information gain' instead?\n",
    "\n",
    "scores = []\n",
    "for i in range(200):\n",
    "    scores.append(run_decision_tree_clf(X, y, test_size=0.4, criterion='entropy', max_depth=None, min_samples_split=1))\n",
    "    \n",
    "pd.Series(scores).describe()"
   ]
  },
  {
   "cell_type": "markdown",
   "metadata": {},
   "source": [
    "We see using information gain / entropy as the criterion for the classifier doesn't do any better, so we'll continue with gini."
   ]
  },
  {
   "cell_type": "code",
   "execution_count": 16,
   "metadata": {
    "collapsed": false
   },
   "outputs": [
    {
     "data": {
      "text/plain": [
       "pregnant    0.066154\n",
       "glucose     0.318207\n",
       "bp          0.087056\n",
       "skin        0.051598\n",
       "insulin     0.053796\n",
       "bmi         0.175340\n",
       "pedigree    0.124995\n",
       "age         0.122854\n",
       "dtype: float64"
      ]
     },
     "execution_count": 16,
     "metadata": {},
     "output_type": "execute_result"
    }
   ],
   "source": [
    "# Now, let's try to see if we can make the tree smaller without losing (and perhaps with gaining) model accuracy.\n",
    "\n",
    "# first, let's try reducing the number of features to simplify the tree and see what happens.\n",
    "# let's run the feature_importances_ method several times to get robust results.\n",
    "# for that, we'll need to modify our function just a little.\n",
    "\n",
    "def run_decision_tree_clf1(X, y, test_size, criterion, max_depth, min_samples_split):  # notice function's name\n",
    "    X_train, X_test, y_train, y_test = train_test_split(X, y, test_size=test_size)\n",
    "    model = DecisionTreeClassifier(criterion=criterion, max_depth=max_depth, min_samples_split=min_samples_split)\n",
    "    model.fit(X_train, y_train)\n",
    "    y_pred = model.predict(X_test)\n",
    "    return model.feature_importances_   # <---  what has changed\n",
    "\n",
    "\n",
    "\n",
    "feature_importance = []\n",
    "\n",
    "for i in range(200):\n",
    "    feature_importance.append(run_decision_tree_clf1(X, y, test_size=0.4, criterion='gini', \n",
    "                                                          max_depth=None, min_samples_split=1))\n",
    "    \n",
    "pd.DataFrame(feature_importance, columns=features).mean()"
   ]
  },
  {
   "cell_type": "code",
   "execution_count": 17,
   "metadata": {
    "collapsed": false
   },
   "outputs": [
    {
     "data": {
      "text/plain": [
       "count    200.000000\n",
       "mean       0.695633\n",
       "std        0.027082\n",
       "min        0.616883\n",
       "25%        0.675325\n",
       "50%        0.694805\n",
       "75%        0.714286\n",
       "max        0.766234\n",
       "dtype: float64"
      ]
     },
     "execution_count": 17,
     "metadata": {},
     "output_type": "execute_result"
    }
   ],
   "source": [
    "# We see that over 200 runs, skin, insuling and pregnant were the least important features, in that order.\n",
    "# What will happen if we remove them?\n",
    "\n",
    "features1 = ['glucose', 'bp', 'bmi', 'pedigree', 'age']\n",
    "\n",
    "X1 = pima.loc[:, features1]\n",
    "\n",
    "scores = []\n",
    "for i in range(200):\n",
    "    scores.append(run_decision_tree_clf(X1, y, test_size=0.4, criterion='gini', max_depth=None, min_samples_split=1))\n",
    "    \n",
    "pd.Series(scores).describe()"
   ]
  },
  {
   "cell_type": "code",
   "execution_count": 18,
   "metadata": {
    "collapsed": false
   },
   "outputs": [
    {
     "data": {
      "text/plain": [
       "count    200.000000\n",
       "mean       0.741153\n",
       "std        0.023566\n",
       "min        0.681818\n",
       "25%        0.724026\n",
       "50%        0.743506\n",
       "75%        0.759740\n",
       "max        0.785714\n",
       "dtype: float64"
      ]
     },
     "execution_count": 18,
     "metadata": {},
     "output_type": "execute_result"
    }
   ],
   "source": [
    "# We didn't do any worse with fewer features, so let's stick with those features, just to make the tree more compact.\n",
    "\n",
    "# Let's try to change different parameters and see if we can improve the accuracy just by keeping the tree smaller \n",
    "# (fighting overfitting)\n",
    "\n",
    "# We'll start with the minimum number of sample to split\n",
    "\n",
    "scores = []\n",
    "for i in range(200):\n",
    "    scores.append(run_decision_tree_clf(X1, y, test_size=0.4, criterion='gini', max_depth=None, min_samples_split=100))\n",
    "    \n",
    "pd.Series(scores).describe()"
   ]
  },
  {
   "cell_type": "code",
   "execution_count": 19,
   "metadata": {
    "collapsed": false
   },
   "outputs": [
    {
     "data": {
      "text/plain": [
       "count    200.000000\n",
       "mean       0.735438\n",
       "std        0.024224\n",
       "min        0.649351\n",
       "25%        0.717532\n",
       "50%        0.737013\n",
       "75%        0.753247\n",
       "max        0.795455\n",
       "dtype: float64"
      ]
     },
     "execution_count": 19,
     "metadata": {},
     "output_type": "execute_result"
    }
   ],
   "source": [
    "# We are now doing a lot better! We gained about 4% in accuracy! Let's try a few more values to min_samples_split.\n",
    "\n",
    "scores = []\n",
    "for i in range(200):\n",
    "    scores.append(run_decision_tree_clf(X1, y, test_size=0.4, criterion='gini', max_depth=None, min_samples_split=50))\n",
    "    \n",
    "pd.Series(scores).describe()"
   ]
  },
  {
   "cell_type": "code",
   "execution_count": 20,
   "metadata": {
    "collapsed": false
   },
   "outputs": [
    {
     "data": {
      "text/plain": [
       "count    200.000000\n",
       "mean       0.737062\n",
       "std        0.026924\n",
       "min        0.649351\n",
       "25%        0.720779\n",
       "50%        0.737013\n",
       "75%        0.756494\n",
       "max        0.801948\n",
       "dtype: float64"
      ]
     },
     "execution_count": 20,
     "metadata": {},
     "output_type": "execute_result"
    }
   ],
   "source": [
    "scores = []\n",
    "for i in range(200):\n",
    "    scores.append(run_decision_tree_clf(X1, y, test_size=0.4, criterion='gini', max_depth=None, min_samples_split=150))\n",
    "    \n",
    "pd.Series(scores).describe()"
   ]
  },
  {
   "cell_type": "markdown",
   "metadata": {},
   "source": [
    "Looks like a good value for min_samples_split is 100 samples! Nice.<br>\n",
    "Let's see how many nodes we have now (earlier we had 169)."
   ]
  },
  {
   "cell_type": "code",
   "execution_count": 21,
   "metadata": {
    "collapsed": false
   },
   "outputs": [
    {
     "data": {
      "text/plain": [
       "16.210000000000001"
      ]
     },
     "execution_count": 21,
     "metadata": {},
     "output_type": "execute_result"
    }
   ],
   "source": [
    "def run_decision_tree_clf2(X, y, test_size, criterion, max_depth, min_samples_split):  # notice function's name\n",
    "    X_train, X_test, y_train, y_test = train_test_split(X, y, test_size=test_size)\n",
    "    model = DecisionTreeClassifier(criterion=criterion, max_depth=max_depth, min_samples_split=min_samples_split)\n",
    "    model.fit(X_train, y_train)\n",
    "    y_pred = model.predict(X_test)\n",
    "    return model.tree_.node_count   # <---  what has changed\n",
    "\n",
    "\n",
    "\n",
    "num_nodes = []\n",
    "\n",
    "for i in range(200):\n",
    "    num_nodes.append(run_decision_tree_clf2(X1, y, test_size=0.4, criterion='gini', \n",
    "                                                          max_depth=None, min_samples_split=100))\n",
    "    \n",
    "pd.Series(num_nodes).mean()"
   ]
  },
  {
   "cell_type": "markdown",
   "metadata": {},
   "source": [
    "We see we get better accuracy than before, with about 10% of the nodes! Awesome square!"
   ]
  },
  {
   "cell_type": "code",
   "execution_count": 22,
   "metadata": {
    "collapsed": false
   },
   "outputs": [
    {
     "data": {
      "text/plain": [
       "{2: 0.73850649350649344,\n",
       " 3: 0.73321428571428582,\n",
       " 4: 0.74355519480519494,\n",
       " 5: 0.74212662337662338,\n",
       " 6: 0.74529220779220784,\n",
       " 7: 0.7427435064935064,\n",
       " 8: 0.74779220779220779,\n",
       " 9: 0.74452922077922079,\n",
       " 10: 0.74275974025974023,\n",
       " 11: 0.74452922077922079,\n",
       " 12: 0.74042207792207793,\n",
       " 13: 0.74056818181818185,\n",
       " 14: 0.74715909090909094,\n",
       " 15: 0.74056818181818185}"
      ]
     },
     "execution_count": 22,
     "metadata": {},
     "output_type": "execute_result"
    }
   ],
   "source": [
    "# Finally, let's experiment with the max_depth parameter.\n",
    "\n",
    "\n",
    "scores = {}\n",
    "for i in range(2, 16):\n",
    "    accuracy = []\n",
    "    for j in range(200):\n",
    "        accuracy.append(run_decision_tree_clf(X1, y, test_size=0.4, criterion='gini', \n",
    "                                              max_depth=i, min_samples_split=100))\n",
    "    mean_accuracy = pd.Series(accuracy).mean()\n",
    "    scores[i] = mean_accuracy\n",
    "\n",
    "scores"
   ]
  },
  {
   "cell_type": "markdown",
   "metadata": {},
   "source": [
    "Well, it doesn't look like there's a lot of difference when we change max_depth. It's likely b/c the min_samples_split is taking over. When I ran it withat any restrictions on the split, I got results lower than 74%, so let's keep the min_samples_split and take max_depth of 8."
   ]
  },
  {
   "cell_type": "code",
   "execution_count": 23,
   "metadata": {
    "collapsed": false
   },
   "outputs": [
    {
     "data": {
      "text/plain": [
       "0.73376623376623373"
      ]
     },
     "execution_count": 23,
     "metadata": {},
     "output_type": "execute_result"
    }
   ],
   "source": [
    "# Finally, let's run the model one more time and visualize a tree, per the task's instructions.\n",
    "\n",
    "X_train, X_test, y_train, y_test = train_test_split(X1, y, test_size=0.4)\n",
    "model = DecisionTreeClassifier(criterion='gini', max_depth=8, min_samples_split=100)\n",
    "model.fit(X_train, y_train)\n",
    "y_pred = model.predict(X_test)\n",
    "    \n",
    "sklearn.metrics.accuracy_score(y_test, y_pred)"
   ]
  },
  {
   "cell_type": "code",
   "execution_count": 24,
   "metadata": {
    "collapsed": false
   },
   "outputs": [
    {
     "data": {
      "image/png": "[encoded data removed]",
      "text/plain": [
       "<IPython.core.display.Image object>"
      ]
     },
     "execution_count": 24,
     "metadata": {},
     "output_type": "execute_result"
    }
   ],
   "source": [
    "# Let's visualize the tree\n",
    "\n",
    "out = StringIO()\n",
    "tree.export_graphviz(model, out_file=out)\n",
    "\n",
    "graph=pydotplus.graph_from_dot_data(out.getvalue())\n",
    "Image(graph.create_png())"
   ]
  },
  {
   "cell_type": "code",
   "execution_count": 46,
   "metadata": {
    "collapsed": false
   },
   "outputs": [
    {
     "name": "stdout",
     "output_type": "stream",
     "text": [
      "0   |   glucose       |    0.616402205126\n",
      "1   |   bp       |    0.0\n",
      "2   |   bmi       |    0.213986321773\n",
      "3   |   pedigree       |    0.0\n",
      "4   |   age       |    0.169611473101\n"
     ]
    }
   ],
   "source": [
    "for i in range(len(features1)):\n",
    "    print i, '  |  ', features1[i], '      |   ', model.feature_importances_[i]"
   ]
  },
  {
   "cell_type": "markdown",
   "metadata": {},
   "source": [
    "We can see the classifier only used 3 features (in order of importance): glucose, bmi and age."
   ]
  },
  {
   "cell_type": "code",
   "execution_count": 47,
   "metadata": {
    "collapsed": false
   },
   "outputs": [
    {
     "data": {
      "text/plain": [
       "0.73376623376623373"
      ]
     },
     "execution_count": 47,
     "metadata": {},
     "output_type": "execute_result"
    }
   ],
   "source": [
    "sklearn.metrics.accuracy_score(y_test, y_pred)"
   ]
  },
  {
   "cell_type": "code",
   "execution_count": 27,
   "metadata": {
    "collapsed": false,
    "scrolled": true
   },
   "outputs": [
    {
     "data": {
      "text/plain": [
       "array([[173,  23],\n",
       "       [ 59,  53]])"
      ]
     },
     "execution_count": 27,
     "metadata": {},
     "output_type": "execute_result"
    }
   ],
   "source": [
    "sklearn.metrics.confusion_matrix(y_test, y_pred)"
   ]
  },
  {
   "cell_type": "code",
   "execution_count": 34,
   "metadata": {
    "collapsed": false,
    "scrolled": true
   },
   "outputs": [
    {
     "name": "stdout",
     "output_type": "stream",
     "text": [
      "             precision    recall  f1-score   support\n",
      "\n",
      "          0       0.75      0.88      0.81       196\n",
      "          1       0.70      0.47      0.56       112\n",
      "\n",
      "avg / total       0.73      0.73      0.72       308\n",
      "\n"
     ]
    }
   ],
   "source": [
    "print sklearn.metrics.classification_report(y_test, y_pred)"
   ]
  },
  {
   "cell_type": "markdown",
   "metadata": {},
   "source": [
    "There are two things that are evident from the confusion matrix and the classification report:\n",
    "1. When the subject doesn't have diabetes, the model does a pretty good job at predicting it (precision, meaning - when a value is predicted, how often is the prediction correct, is 0.75 and recall - meaning - when the actual value is X, how often is the prediction correct, is 0.88.<br>\n",
    "\n",
    "+ Unfortunatelly recall is only 0.47 for the True class. This means that when the subject does have diabetes, our model would only predict that 47% of the time. Of the 112 subjects with diabetes in the test set, for only 53 the model predicted diabetes. This goes hand in hand with an f1 score of just 0.56.<br>\n",
    "\n",
    "To sum up, the model does a pretty good job predicting there's no diabetes when there is none indeed (the more common case), but doesn't perform well predicting diabetes when the subject does have it."
   ]
  },
  {
   "cell_type": "markdown",
   "metadata": {},
   "source": [
    "----"
   ]
  },
  {
   "cell_type": "markdown",
   "metadata": {},
   "source": [
    "### Thank you kind stranger for reading! :)"
   ]
  }
 ],
 "metadata": {
  "kernelspec": {
   "display_name": "Python 2",
   "language": "python",
   "name": "python2"
  },
  "language_info": {
   "codemirror_mode": {
    "name": "ipython",
    "version": 2
   },
   "file_extension": ".py",
   "mimetype": "text/x-python",
   "name": "python",
   "nbconvert_exporter": "python",
   "pygments_lexer": "ipython2",
   "version": "2.7.11"
  }
 },
 "nbformat": 4,
 "nbformat_minor": 0
}
